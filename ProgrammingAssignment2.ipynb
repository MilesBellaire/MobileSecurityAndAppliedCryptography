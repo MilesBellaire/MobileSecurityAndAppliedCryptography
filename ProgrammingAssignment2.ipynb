{
 "cells": [
  {
   "cell_type": "code",
   "execution_count": null,
   "metadata": {},
   "outputs": [],
   "source": []
  },
  {
   "cell_type": "code",
   "execution_count": 10,
   "metadata": {},
   "outputs": [],
   "source": [
    "def check_prime(n):\n",
    "   if n<2:\n",
    "      return False\n",
    "   for i in range(2,n//2+1):\n",
    "      if n%i==0:\n",
    "         return False\n",
    "   return True\n"
   ]
  },
  {
   "cell_type": "code",
   "execution_count": 14,
   "metadata": {},
   "outputs": [
    {
     "name": "stdout",
     "output_type": "stream",
     "text": [
      "25 = 25\n"
     ]
    },
    {
     "data": {
      "text/plain": [
       "True"
      ]
     },
     "execution_count": 14,
     "metadata": {},
     "output_type": "execute_result"
    }
   ],
   "source": [
    "# Test Cases\n",
    "primes = [2, 3, 5, 7, 11, 13, 17, 19, 23, 29, 31, 37, 41, 43, 47, 53, 59, 61, 67, 71, 73, 79, 83, 89, 97]\n",
    "\n",
    "count = 0\n",
    "for i in range(2,100):\n",
    "   if check_prime(i): \n",
    "      count += 1\n",
    "\n",
    "print(f\"{count} = {len(primes)}\")\n",
    "count == len(primes)"
   ]
  },
  {
   "cell_type": "code",
   "execution_count": 22,
   "metadata": {},
   "outputs": [
    {
     "name": "stdout",
     "output_type": "stream",
     "text": [
      "p = 1061, q = 1117\n"
     ]
    }
   ],
   "source": [
    "# Find the 10th and 19th prime numbers p and q between 1000 and 10000\n",
    "p = q = count = 0\n",
    "\n",
    "for i in range(1000,10000):\n",
    "   if check_prime(i): \n",
    "      count += 1\n",
    "      if count == 10: p = i\n",
    "      if count == 19: q = i\n",
    "\n",
    "print(f\"p = {p}, q = {q}\")"
   ]
  },
  {
   "cell_type": "code",
   "execution_count": null,
   "metadata": {},
   "outputs": [],
   "source": [
    "# Greatest common divisor (GCD)\n",
    "def gcd(a, b):\n",
    "   if b == 0:\n",
    "      return a\n",
    "   return gcd(b, a % b)\n",
    "\n",
    "def phi(p, q):\n",
    "   return (p-1)*(q-1)\n",
    "\n",
    "def get_e(phi):\n",
    "   for i in range(2, 1000):\n",
    "      if gcd(i, phi) == 1:\n",
    "         return i\n",
    "   return -1\n",
    "\n",
    "def get_d(e, phi):\n",
    "   for i in range(2, 1000):\n",
    "      if (i * e) % phi == 1:\n",
    "         return i\n",
    "   return -1"
   ]
  }
 ],
 "metadata": {
  "kernelspec": {
   "display_name": ".venv",
   "language": "python",
   "name": "python3"
  },
  "language_info": {
   "codemirror_mode": {
    "name": "ipython",
    "version": 3
   },
   "file_extension": ".py",
   "mimetype": "text/x-python",
   "name": "python",
   "nbconvert_exporter": "python",
   "pygments_lexer": "ipython3",
   "version": "3.12.0"
  }
 },
 "nbformat": 4,
 "nbformat_minor": 2
}
